{
  "nbformat": 4,
  "nbformat_minor": 0,
  "metadata": {
    "colab": {
      "name": "ExampleClassificationStarsQSO.ipynb",
      "version": "0.3.2",
      "provenance": []
    },
    "kernelspec": {
      "name": "python3",
      "display_name": "Python 3"
    }
  },
  "cells": [
    {
      "cell_type": "markdown",
      "metadata": {
        "id": "gqkOstLOLLHu",
        "colab_type": "text"
      },
      "source": [
        ""
      ]
    },
    {
      "cell_type": "code",
      "metadata": {
        "id": "A_Wdtej_Hzts",
        "colab_type": "code",
        "colab": {}
      },
      "source": [
        "#  This is where we import \"packages\". Think of these as pre-written bits of code (that are known to already work!) \n",
        "#      that we can just use.  \n",
        "import matplotlib.pyplot as plt\n",
        "%matplotlib inline\n",
        "\n",
        "import numpy as np"
      ],
      "execution_count": 0,
      "outputs": []
    },
    {
      "cell_type": "markdown",
      "metadata": {
        "id": "9N-sXSPULXSW",
        "colab_type": "text"
      },
      "source": [
        "# Let's start with some example data:\n",
        "Below is a plot of stars and quasars in color space: g-r color vs. u-g\n",
        "--> Image of color sensitivity of SDSS observations"
      ]
    },
    {
      "cell_type": "code",
      "metadata": {
        "id": "vPzGrJL-LV2E",
        "colab_type": "code",
        "colab": {}
      },
      "source": [
        "# Generate fake g-r and u-g data that kind of looks like the SDSS plot \n",
        "#   (avoid requiring access astroML this morning)\n",
        "\n",
        "gr_qso_vals = np.random.normal(0.1, 0.2, 300)\n",
        "ug_qso_vals = np.random.normal(0.2, 0.3, 300)\n",
        "\n",
        "\n",
        "gr_stars_vals = np.random.normal(0.8, 0.2, 1000)\n",
        "ug_stars_vals = np.random.normal(.8, 0.25, 1000)\n"
      ],
      "execution_count": 0,
      "outputs": []
    },
    {
      "cell_type": "code",
      "metadata": {
        "id": "55sLFVNQLkr9",
        "colab_type": "code",
        "outputId": "3530c7fa-f1d3-4e29-d55f-db39a52152a8",
        "colab": {
          "base_uri": "https://localhost:8080/",
          "height": 308
        }
      },
      "source": [
        "plt.plot(ug_qso_vals, gr_qso_vals, '.', ms=2, c='r', label='QSO')\n",
        "\n",
        "plt.plot(ug_stars_vals, gr_stars_vals, '.', ms=2, c='b', label='stars')\n",
        "\n",
        "plt.xlabel('u-g color',fontsize='xx-large')\n",
        "plt.ylabel('g-r color',fontsize='xx-large')\n",
        "plt.xlim(-.5,2.5)\n",
        "plt.ylim(-1,1.5)\n",
        "plt.legend(fontsize='large')"
      ],
      "execution_count": 0,
      "outputs": [
        {
          "output_type": "execute_result",
          "data": {
            "text/plain": [
              "<matplotlib.legend.Legend at 0x7fb6b03c9160>"
            ]
          },
          "metadata": {
            "tags": []
          },
          "execution_count": 5
        },
        {
          "output_type": "display_data",
          "data": {
            "image/png": "[encoded data removed]",
            "text/plain": [
              "<Figure size 432x288 with 1 Axes>"
            ]
          },
          "metadata": {
            "tags": []
          }
        }
      ]
    },
    {
      "cell_type": "code",
      "metadata": {
        "id": "fuNsDPHrLl5a",
        "colab_type": "code",
        "colab": {}
      },
      "source": [
        "# (1) what a classifier does, concept of decision boundary.\n",
        "# (2) illustrate --> if ambiguous overlapping data, maybe additional features are needed?\n",
        "# (3) If the training set does not well represent the test set (e.g. brighter and easier to find in certain colors?)"
      ],
      "execution_count": 0,
      "outputs": []
    },
    {
      "cell_type": "code",
      "metadata": {
        "id": "AawwKx6wQSTd",
        "colab_type": "code",
        "colab": {}
      },
      "source": [
        ""
      ],
      "execution_count": 0,
      "outputs": []
    }
  ]
}