{
 "cells": [
  {
   "cell_type": "markdown",
   "metadata": {},
   "source": [
    "## Make a plot of the fitness of the solution for each parameter."
   ]
  },
  {
   "cell_type": "code",
   "execution_count": null,
   "metadata": {},
   "outputs": [],
   "source": [
    "import matplotlib.pyplot as plt\n",
    "import pandas as pd\n",
    "import numpy as np\n",
    "from pathlib import Path\n",
    "from collections import OrderedDict\n",
    "from matplotlib.pyplot import text"
   ]
  },
  {
   "cell_type": "markdown",
   "metadata": {},
   "source": [
    "The data file below is called fitness_100.log, which contains the output after 100 iterations of multinest.\n",
    "Try other files with more iterations as well."
   ]
  },
  {
   "cell_type": "markdown",
   "metadata": {},
   "source": [
    "The data file we have to load is a simple text file. NumPy has a nice `loadtxt` function, but we won't have information about the various columns. Using Pandas' `read_csv` utility requires a bit more extra work (since there are no headers in the data file), but it gives more information about the columns, by providing them with a header."
   ]
  },
  {
   "cell_type": "code",
   "execution_count": null,
   "metadata": {},
   "outputs": [],
   "source": [
    "#data = np.loadtxt('fitness_100.log', usecols=[2,3,4,5,6])\n",
    "\n",
    "df = pd.read_csv('fitness_100.log', names=['Fitness', 'mu_vtst', 'lambda_vtst', 'theta_MFP', 'theta_MSP'],\n",
    "                 usecols=[2,3,4,5,6], index_col=False, sep='\\s+')"
   ]
  },
  {
   "cell_type": "markdown",
   "metadata": {},
   "source": [
    "Pandas dataframes have a plot method, which allow for quick and simple plots."
   ]
  },
  {
   "cell_type": "code",
   "execution_count": null,
   "metadata": {},
   "outputs": [],
   "source": [
    "%matplotlib inline\n",
    "df.plot('mu_vtst', 'Fitness', kind='scatter');"
   ]
  },
  {
   "cell_type": "markdown",
   "metadata": {},
   "source": [
    "For tinkering with the plot, such as labels and text size, using Matplotlib (or Pyplot) directly is more or less necessary."
   ]
  },
  {
   "cell_type": "markdown",
   "metadata": {},
   "source": [
    "Set some limits for the fitness, as well as symbol sizes and colors for each limit range.\n",
    "The colors are commented-out, so that the figure relies on Matplotlib standard color cycle. This can often even be better, since these colors are picked to avoid problems with e.g. color-blindness as much as possible."
   ]
  },
  {
   "cell_type": "code",
   "execution_count": null,
   "metadata": {},
   "outputs": [],
   "source": [
    "limits = [0.0, 1.0, 2.0, 3.0, 4.0, 5.0, 6.0, 10000.0]\n",
    "sizes = list(range(2, 2+len(limits)*10, 10))\n",
    "#colors = ['blue', 'green', 'orange', 'yellow', 'purple', 'cyan', 'red']"
   ]
  },
  {
   "cell_type": "code",
   "execution_count": null,
   "metadata": {},
   "outputs": [],
   "source": [
    "plt.style.use('bmh')\n",
    "for low, high, size in zip(limits[:-1], limits[1:], sizes):\n",
    "    selection = (df['Fitness'] >= low) & (df['Fitness'] < high)\n",
    "    x = df['mu_vtst'][selection]\n",
    "    y = df['Fitness'][selection]\n",
    "    plt.scatter(x, y, s=size)\n",
    "plt.xlabel('$\\mu_{\\mathrm{vtst}}$')\n",
    "plt.ylabel('Fitness');"
   ]
  },
  {
   "cell_type": "markdown",
   "metadata": {},
   "source": [
    "To plot all columns in a nice 2 by 2 figure, we loop over the four columns."
   ]
  },
  {
   "cell_type": "code",
   "execution_count": null,
   "metadata": {},
   "outputs": [],
   "source": [
    "labels = (r'$\\mu_{\\mathrm{vtst}}$', r'$\\lambda_{\\mathrm{vtst}}$', \n",
    "          r'$\\theta_{\\mathrm{MFP}}$', r'$\\theta_{\\mathrm{MSP}}$')\n",
    "columns = ('mu_vtst', 'lambda_vtst', 'theta_MFP', 'theta_MSP')\n",
    "fig = plt.subplots(figsize=(12, 8), sharey=True)\n",
    "plt.rc('font', size=16)\n",
    "for i, (xlabel, column) in enumerate(zip(labels, columns)):\n",
    "    ax = plt.subplot(2,2,i+1)\n",
    "    if i % 2:\n",
    "      ax.yaxis.tick_right()\n",
    "      ax.yaxis.set_label_position(\"right\")\n",
    "    for low, high, size in zip(limits[:-1], limits[1:], sizes):\n",
    "        selection = (df['Fitness'] >= low) & (df['Fitness'] < high)\n",
    "        x = df[column][selection]\n",
    "        y = df['Fitness'][selection]\n",
    "        plt.scatter(x, y, s=size)\n",
    "    plt.xlabel(xlabel)\n",
    "    plt.ylabel('Fitness')\n",
    "plt.tight_layout()"
   ]
  },
  {
   "cell_type": "markdown",
   "metadata": {},
   "source": [
    "## Make a plot of the the solution found for a certain fitness."
   ]
  },
  {
   "cell_type": "code",
   "execution_count": null,
   "metadata": {},
   "outputs": [],
   "source": [
    "directory = Path('.')\n",
    "paths = directory.glob('Solutions/solution_*.dat')\n",
    "dataset = OrderedDict()\n",
    "\n",
    "for path in sorted(paths):\n",
    "    label = path.stem[-4:]\n",
    "    data = np.loadtxt(path).T  # transpose\n",
    "    plt.plot(data[0], data[1], '-', label=label)\n",
    "    dataset[label] = data\n",
    "plt.axvline(x=0.072, color='k')\n",
    "plt.text(0.045, 1e7, \"True MFP\", rotation=90, verticalalignment='center')\n",
    "plt.axvline(x=0.828, color='k')\n",
    "plt.text(0.8, 1e7, \"True MSP\", rotation=90, verticalalignment='center')\n",
    "plt.axvline(x=0.698, color='k')\n",
    "plt.text(0.67, 1e7, \"AP\", rotation=90, verticalalignment='center')\n",
    "\n",
    "plt.xlabel(r'$\\theta$')\n",
    "plt.ylabel(r'$\\mathcal{M}^2$')\n",
    "plt.legend() ;"
   ]
  },
  {
   "cell_type": "markdown",
   "metadata": {},
   "source": [
    "Zoom in at the midpoint between the MFP and the Alfven point."
   ]
  },
  {
   "cell_type": "code",
   "execution_count": null,
   "metadata": {},
   "outputs": [],
   "source": [
    "# Scaling just the x-axis will not work! The y-axis will not be scaled to the new x-range\n",
    "# plt.xlim(0.380, 0.395)\n",
    "\n",
    "for code, data in dataset.items():\n",
    "    selection = (0.380 <= data[0]) & (data[0] <= 0.395)\n",
    "    plt.plot(data[0][selection], data[1][selection], '-', label=code)\n",
    "plt.xlabel(r'$\\theta$')\n",
    "plt.ylabel(r'$\\mathcal{M}^2$')\n",
    "plt.legend(loc='upper right') ;"
   ]
  },
  {
   "cell_type": "markdown",
   "metadata": {},
   "source": [
    "Zoom in at the midpoint between the MSP and the Alfven point."
   ]
  },
  {
   "cell_type": "code",
   "execution_count": null,
   "metadata": {},
   "outputs": [],
   "source": [
    "# Scaling just the x-axis will not work! The y-axis will not be scaled to the new x-range\n",
    "# plt.xlim(0.735, 0.775)\n",
    "\n",
    "for code, data in dataset.items():\n",
    "    selection = (0.735 <= data[0]) & (data[0] <= 0.775)\n",
    "    plt.plot(data[0][selection], data[1][selection], '-', label=code)\n",
    "plt.xlabel(r'$\\theta$')\n",
    "plt.ylabel(r'$\\mathcal{M}^2$')\n",
    "plt.legend(loc='lower left');"
   ]
  },
  {
   "cell_type": "code",
   "execution_count": null,
   "metadata": {},
   "outputs": [],
   "source": []
  }
 ],
 "metadata": {
  "kernelspec": {
   "display_name": "Python 3",
   "language": "python",
   "name": "python3"
  },
  "language_info": {
   "codemirror_mode": {
    "name": "ipython",
    "version": 3
   },
   "file_extension": ".py",
   "mimetype": "text/x-python",
   "name": "python",
   "nbconvert_exporter": "python",
   "pygments_lexer": "ipython3",
   "version": "3.7.3"
  }
 },
 "nbformat": 4,
 "nbformat_minor": 2
}
