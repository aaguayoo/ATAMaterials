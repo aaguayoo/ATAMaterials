{
 "cells": [
  {
   "cell_type": "markdown",
   "metadata": {},
   "source": [
    "\n",
    "======================================\n",
    "Spectrogram, power spectral density\n",
    "======================================\n",
    "\n",
    "Demo power spectral density on a MHD time series\n"
   ]
  },
  {
   "cell_type": "code",
   "execution_count": null,
   "metadata": {
    "collapsed": true
   },
   "outputs": [],
   "source": [
    "import numpy as np\n",
    "from matplotlib import pyplot as plt\n",
    "from astropy.io import fits\n",
    "from scipy import signal"
   ]
  },
  {
   "cell_type": "markdown",
   "metadata": {},
   "source": [
    "Read in the data\n"
   ]
  },
  {
   "cell_type": "code",
   "execution_count": null,
   "metadata": {},
   "outputs": [],
   "source": [
    "#Load in the data image using astrophy fits loader\n",
    "\n",
    "image_data = fits.getdata('/Users/bburkhart/Desktop/lesson/TurbSignal.fits', ext=0)\n",
    "print(image_data.shape)\n",
    "\n",
    "sig = image_data\n",
    "\n",
    "\n",
    "print(sig.shape)\n",
    "f=np.arange(256)\n",
    "\n",
    "# now that you loaded in the data and made an array of matching frequency,compute the power spectrum (use google, scipy is a clue!)\n",
    "\n",
    "\n"
   ]
  }
 ],
 "metadata": {
  "kernelspec": {
   "display_name": "Python 3",
   "language": "python",
   "name": "python3"
  },
  "language_info": {
   "codemirror_mode": {
    "name": "ipython",
    "version": 3
   },
   "file_extension": ".py",
   "mimetype": "text/x-python",
   "name": "python",
   "nbconvert_exporter": "python",
   "pygments_lexer": "ipython3",
   "version": "3.6.1"
  }
 },
 "nbformat": 4,
 "nbformat_minor": 1
}
